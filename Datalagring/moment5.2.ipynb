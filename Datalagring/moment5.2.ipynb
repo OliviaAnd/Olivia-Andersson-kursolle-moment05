{
 "cells": [
  {
   "cell_type": "code",
   "execution_count": 1,
   "metadata": {},
   "outputs": [
    {
     "name": "stdout",
     "output_type": "stream",
     "text": [
      "Sorterad lista från lägsta till högsta: [2, 6, 8, 10, 11, 12, 14, 16, 19, 26, 41, 45, 50, 52, 56, 61, 68, 76, 77, 80, 88, 89, 92, 97, 100]\n",
      "Antal tal i listan: 25\n",
      "Medelvärdet är: 47.84\n"
     ]
    }
   ],
   "source": [
    "# m05u08\r\n",
    "\r\n",
    "fil = 'provpoäng.txt'\r\n",
    "lista = []\r\n",
    "\r\n",
    "with open(fil) as f:\r\n",
    "    for rad in f:\r\n",
    "        if len(rad) > 1:\r\n",
    "            lista.append(int(rad))\r\n",
    "\r\n",
    "#sortera lista\r\n",
    "lista.sort()\r\n",
    "\r\n",
    "print(f\"Sorterad lista från lägsta till högsta: {lista}\")\r\n",
    "print(f\"Antal tal i listan: {len(lista)}\")\r\n",
    "print(f\"Medelvärdet är: {sum(lista)/len(lista)}\")\r\n",
    "        \r\n",
    "\r\n",
    "\r\n",
    "\r\n"
   ]
  },
  {
   "cell_type": "code",
   "execution_count": null,
   "metadata": {},
   "outputs": [],
   "source": [
    "# m05u09\r\n"
   ]
  }
 ],
 "metadata": {
  "kernelspec": {
   "display_name": "Python 3.8.3 64-bit (conda)",
   "metadata": {
    "interpreter": {
     "hash": "8a3d488cac65b56a3edc1258887eb65598ac25f856c1a45e26dcf824e9c3ee23"
    }
   },
   "name": "python3"
  },
  "language_info": {
   "codemirror_mode": {
    "name": "ipython",
    "version": 3
   },
   "file_extension": ".py",
   "mimetype": "text/x-python",
   "name": "python",
   "nbconvert_exporter": "python",
   "pygments_lexer": "ipython3",
   "version": "3.8.3"
  },
  "orig_nbformat": 2
 },
 "nbformat": 4,
 "nbformat_minor": 2
}