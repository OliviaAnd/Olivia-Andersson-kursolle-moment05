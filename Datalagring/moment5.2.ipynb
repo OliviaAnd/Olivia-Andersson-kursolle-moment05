{
 "cells": [
  {
   "cell_type": "code",
   "execution_count": 8,
   "metadata": {},
   "outputs": [
    {
     "name": "stdout",
     "output_type": "stream",
     "text": [
      "92\n",
      "26\n",
      "19\n",
      "56\n",
      "61\n",
      "45\n",
      "41\n",
      "11\n",
      "52\n",
      "77\n",
      "8\n",
      "89\n",
      "50\n",
      "10\n",
      "16\n",
      "88\n",
      "68\n",
      "6\n",
      "100\n",
      "80\n",
      "12\n",
      "2\n",
      "76\n",
      "97\n",
      "14\n"
     ]
    }
   ],
   "source": [
    "# m05u08\r\n",
    "\r\n",
    "fil = 'provpoäng.txt'\r\n",
    "lista = []\r\n",
    "\r\n",
    "with open(fil) as f:\r\n",
    "    for rad in f:\r\n",
    "        \r\n",
    "\r\n",
    "\r\n",
    "\r\n"
   ]
  }
 ],
 "metadata": {
  "kernelspec": {
   "display_name": "Python 3.8.3 64-bit (conda)",
   "metadata": {
    "interpreter": {
     "hash": "8a3d488cac65b56a3edc1258887eb65598ac25f856c1a45e26dcf824e9c3ee23"
    }
   },
   "name": "python3"
  },
  "language_info": {
   "codemirror_mode": {
    "name": "ipython",
    "version": 3
   },
   "file_extension": ".py",
   "mimetype": "text/x-python",
   "name": "python",
   "nbconvert_exporter": "python",
   "pygments_lexer": "ipython3",
   "version": "3.8.3-final"
  },
  "orig_nbformat": 2
 },
 "nbformat": 4,
 "nbformat_minor": 2
}