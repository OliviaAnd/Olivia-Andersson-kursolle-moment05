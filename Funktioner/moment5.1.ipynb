{
 "cells": [
  {
   "cell_type": "code",
   "execution_count": 4,
   "metadata": {},
   "outputs": [
    {
     "name": "stdout",
     "output_type": "stream",
     "text": [
      "Olivia, te19d, nti\n"
     ]
    }
   ],
   "source": [
    "# Uppgift 1 \n",
    "\n",
    "def mig():\n",
    "    print('Olivia, te19d, nti')\n",
    "\n",
    "mig()"
   ]
  },
  {
   "cell_type": "code",
   "execution_count": 1,
   "metadata": {},
   "outputs": [
    {
     "name": "stdout",
     "output_type": "stream",
     "text": [
      "Arean är: 12.56\n",
      "Omkretsen är: 8.280000000000001\n"
     ]
    }
   ],
   "source": [
    "# Uppgift 2\n",
    "radie = int(input(\"Ange en radie\"))\n",
    "\n",
    "def area():\n",
    "    a = 3.14*radie**2\n",
    "    print(f\"Arean är: {a}\")\n",
    "area()\n",
    "\n",
    "def omkrets():\n",
    "    o = radie+radie*3.14\n",
    "    print(f\"Omkretsen är: {o}\")\n",
    "omkrets()\n"
   ]
  },
  {
   "cell_type": "code",
   "execution_count": 13,
   "metadata": {},
   "outputs": [
    {
     "name": "stdout",
     "output_type": "stream",
     "text": [
      "Arean är: 28.26\n",
      "Omkretsen är: 12.42\n"
     ]
    }
   ],
   "source": [
    "#Uppgift 3\n",
    "\n",
    "radie = int(input(\"Ange en radie\"))\n",
    "\n",
    "def area(pi, radie):\n",
    "    a = pi*radie**2\n",
    "    return a\n",
    "    \n",
    "\n",
    "def omkrets(pi, radie):\n",
    "    o = radie+radie*pi\n",
    "    return o\n",
    "    \n",
    "     \n",
    "summa1 = area(3.14, radie)\n",
    "print(f\"Arean är: {summa1}\")\n",
    "\n",
    "summa2 = omkrets(3.14, radie)\n",
    "print(f\"Omkretsen är: {summa2}\")"
   ]
  },
  {
   "cell_type": "code",
   "execution_count": 20,
   "metadata": {},
   "outputs": [
    {
     "ename": "AttributeError",
     "evalue": "module 'functions' has no attribute 'area'",
     "output_type": "error",
     "traceback": [
      "\u001b[1;31m---------------------------------------------------------------------------\u001b[0m",
      "\u001b[1;31mAttributeError\u001b[0m                            Traceback (most recent call last)",
      "\u001b[1;32m<ipython-input-20-57b58a306d67>\u001b[0m in \u001b[0;36m<module>\u001b[1;34m\u001b[0m\n\u001b[0;32m      3\u001b[0m \u001b[0mradie\u001b[0m \u001b[1;33m=\u001b[0m \u001b[0mint\u001b[0m\u001b[1;33m(\u001b[0m\u001b[0minput\u001b[0m\u001b[1;33m(\u001b[0m\u001b[1;34m\"Ange en radie\"\u001b[0m\u001b[1;33m)\u001b[0m\u001b[1;33m)\u001b[0m\u001b[1;33m\u001b[0m\u001b[1;33m\u001b[0m\u001b[0m\n\u001b[0;32m      4\u001b[0m \u001b[1;33m\u001b[0m\u001b[0m\n\u001b[1;32m----> 5\u001b[1;33m \u001b[0msumma1\u001b[0m \u001b[1;33m=\u001b[0m \u001b[0mfunctions\u001b[0m\u001b[1;33m.\u001b[0m\u001b[0marea\u001b[0m\u001b[1;33m(\u001b[0m\u001b[1;36m3.14\u001b[0m\u001b[1;33m,\u001b[0m \u001b[0mradie\u001b[0m\u001b[1;33m)\u001b[0m\u001b[1;33m\u001b[0m\u001b[1;33m\u001b[0m\u001b[0m\n\u001b[0m\u001b[0;32m      6\u001b[0m \u001b[0mprint\u001b[0m\u001b[1;33m(\u001b[0m\u001b[1;34mf\"Arean är: {summa1}\"\u001b[0m\u001b[1;33m)\u001b[0m\u001b[1;33m\u001b[0m\u001b[1;33m\u001b[0m\u001b[0m\n\u001b[0;32m      7\u001b[0m \u001b[1;33m\u001b[0m\u001b[0m\n",
      "\u001b[1;31mAttributeError\u001b[0m: module 'functions' has no attribute 'area'"
     ]
    }
   ],
   "source": [
    "import functions as functions\n",
    "\n",
    "radie = int(input(\"Ange en radie\"))\n",
    "      \n",
    "summa1 = functions.area(3.14, radie)\n",
    "print(f\"Arean är: {summa1}\")\n",
    "\n",
    "summa2 = functions.omkrets(3.14, radie)\n",
    "print(f\"Omkretsen är: {summa2}\")"
   ]
  },
  {
   "cell_type": "code",
   "execution_count": null,
   "metadata": {},
   "outputs": [],
   "source": []
  }
 ],
 "metadata": {
  "kernelspec": {
   "display_name": "Python 3",
   "language": "python",
   "name": "python3"
  },
  "language_info": {
   "codemirror_mode": {
    "name": "ipython",
    "version": 3
   },
   "file_extension": ".py",
   "mimetype": "text/x-python",
   "name": "python",
   "nbconvert_exporter": "python",
   "pygments_lexer": "ipython3",
   "version": "3.8.3-final"
  },
  "orig_nbformat": 2
 },
 "nbformat": 4,
 "nbformat_minor": 2
}